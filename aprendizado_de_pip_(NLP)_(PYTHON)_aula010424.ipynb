{
  "nbformat": 4,
  "nbformat_minor": 0,
  "metadata": {
    "colab": {
      "provenance": [],
      "authorship_tag": "ABX9TyPigz/1QqltfoPBpDU23CHk",
      "include_colab_link": true
    },
    "kernelspec": {
      "name": "python3",
      "display_name": "Python 3"
    },
    "language_info": {
      "name": "python"
    }
  },
  "cells": [
    {
      "cell_type": "markdown",
      "metadata": {
        "id": "view-in-github",
        "colab_type": "text"
      },
      "source": [
        "<a href=\"https://colab.research.google.com/github/LucasGaion/Google-Colab/blob/main/aprendizado_de_pip_(NLP)_(PYTHON)_aula010424.ipynb\" target=\"_parent\"><img src=\"https://colab.research.google.com/assets/colab-badge.svg\" alt=\"Open In Colab\"/></a>"
      ]
    },
    {
      "cell_type": "markdown",
      "source": [
        "Instalar a biblioteca SPACY"
      ],
      "metadata": {
        "id": "Jz8aKEJfxmLO"
      }
    },
    {
      "cell_type": "code",
      "source": [
        "%pip install spacy"
      ],
      "metadata": {
        "id": "0Sk0cIO6ysCe"
      },
      "execution_count": null,
      "outputs": []
    },
    {
      "cell_type": "code",
      "source": [
        "!python -m spacy download pt_core_news_sm"
      ],
      "metadata": {
        "colab": {
          "base_uri": "https://localhost:8080/"
        },
        "id": "Ulw6X3fKx_tH",
        "outputId": "8f60c5b6-9a2e-4dce-d0d9-86e65702a641"
      },
      "execution_count": null,
      "outputs": [
        {
          "output_type": "stream",
          "name": "stdout",
          "text": [
            "Collecting pt-core-news-sm==3.7.0\n",
            "  Downloading https://github.com/explosion/spacy-models/releases/download/pt_core_news_sm-3.7.0/pt_core_news_sm-3.7.0-py3-none-any.whl (13.0 MB)\n",
            "\u001b[2K     \u001b[90m━━━━━━━━━━━━━━━━━━━━━━━━━━━━━━━━━━━━━━━━\u001b[0m \u001b[32m13.0/13.0 MB\u001b[0m \u001b[31m23.4 MB/s\u001b[0m eta \u001b[36m0:00:00\u001b[0m\n",
            "\u001b[?25hRequirement already satisfied: spacy<3.8.0,>=3.7.0 in /usr/local/lib/python3.10/dist-packages (from pt-core-news-sm==3.7.0) (3.7.4)\n",
            "Requirement already satisfied: spacy-legacy<3.1.0,>=3.0.11 in /usr/local/lib/python3.10/dist-packages (from spacy<3.8.0,>=3.7.0->pt-core-news-sm==3.7.0) (3.0.12)\n",
            "Requirement already satisfied: spacy-loggers<2.0.0,>=1.0.0 in /usr/local/lib/python3.10/dist-packages (from spacy<3.8.0,>=3.7.0->pt-core-news-sm==3.7.0) (1.0.5)\n",
            "Requirement already satisfied: murmurhash<1.1.0,>=0.28.0 in /usr/local/lib/python3.10/dist-packages (from spacy<3.8.0,>=3.7.0->pt-core-news-sm==3.7.0) (1.0.10)\n",
            "Requirement already satisfied: cymem<2.1.0,>=2.0.2 in /usr/local/lib/python3.10/dist-packages (from spacy<3.8.0,>=3.7.0->pt-core-news-sm==3.7.0) (2.0.8)\n",
            "Requirement already satisfied: preshed<3.1.0,>=3.0.2 in /usr/local/lib/python3.10/dist-packages (from spacy<3.8.0,>=3.7.0->pt-core-news-sm==3.7.0) (3.0.9)\n",
            "Requirement already satisfied: thinc<8.3.0,>=8.2.2 in /usr/local/lib/python3.10/dist-packages (from spacy<3.8.0,>=3.7.0->pt-core-news-sm==3.7.0) (8.2.3)\n",
            "Requirement already satisfied: wasabi<1.2.0,>=0.9.1 in /usr/local/lib/python3.10/dist-packages (from spacy<3.8.0,>=3.7.0->pt-core-news-sm==3.7.0) (1.1.2)\n",
            "Requirement already satisfied: srsly<3.0.0,>=2.4.3 in /usr/local/lib/python3.10/dist-packages (from spacy<3.8.0,>=3.7.0->pt-core-news-sm==3.7.0) (2.4.8)\n",
            "Requirement already satisfied: catalogue<2.1.0,>=2.0.6 in /usr/local/lib/python3.10/dist-packages (from spacy<3.8.0,>=3.7.0->pt-core-news-sm==3.7.0) (2.0.10)\n",
            "Requirement already satisfied: weasel<0.4.0,>=0.1.0 in /usr/local/lib/python3.10/dist-packages (from spacy<3.8.0,>=3.7.0->pt-core-news-sm==3.7.0) (0.3.4)\n",
            "Requirement already satisfied: typer<0.10.0,>=0.3.0 in /usr/local/lib/python3.10/dist-packages (from spacy<3.8.0,>=3.7.0->pt-core-news-sm==3.7.0) (0.9.4)\n",
            "Requirement already satisfied: smart-open<7.0.0,>=5.2.1 in /usr/local/lib/python3.10/dist-packages (from spacy<3.8.0,>=3.7.0->pt-core-news-sm==3.7.0) (6.4.0)\n",
            "Requirement already satisfied: tqdm<5.0.0,>=4.38.0 in /usr/local/lib/python3.10/dist-packages (from spacy<3.8.0,>=3.7.0->pt-core-news-sm==3.7.0) (4.66.2)\n",
            "Requirement already satisfied: requests<3.0.0,>=2.13.0 in /usr/local/lib/python3.10/dist-packages (from spacy<3.8.0,>=3.7.0->pt-core-news-sm==3.7.0) (2.31.0)\n",
            "Requirement already satisfied: pydantic!=1.8,!=1.8.1,<3.0.0,>=1.7.4 in /usr/local/lib/python3.10/dist-packages (from spacy<3.8.0,>=3.7.0->pt-core-news-sm==3.7.0) (2.6.4)\n",
            "Requirement already satisfied: jinja2 in /usr/local/lib/python3.10/dist-packages (from spacy<3.8.0,>=3.7.0->pt-core-news-sm==3.7.0) (3.1.3)\n",
            "Requirement already satisfied: setuptools in /usr/local/lib/python3.10/dist-packages (from spacy<3.8.0,>=3.7.0->pt-core-news-sm==3.7.0) (67.7.2)\n",
            "Requirement already satisfied: packaging>=20.0 in /usr/local/lib/python3.10/dist-packages (from spacy<3.8.0,>=3.7.0->pt-core-news-sm==3.7.0) (24.0)\n",
            "Requirement already satisfied: langcodes<4.0.0,>=3.2.0 in /usr/local/lib/python3.10/dist-packages (from spacy<3.8.0,>=3.7.0->pt-core-news-sm==3.7.0) (3.3.0)\n",
            "Requirement already satisfied: numpy>=1.19.0 in /usr/local/lib/python3.10/dist-packages (from spacy<3.8.0,>=3.7.0->pt-core-news-sm==3.7.0) (1.25.2)\n",
            "Requirement already satisfied: annotated-types>=0.4.0 in /usr/local/lib/python3.10/dist-packages (from pydantic!=1.8,!=1.8.1,<3.0.0,>=1.7.4->spacy<3.8.0,>=3.7.0->pt-core-news-sm==3.7.0) (0.6.0)\n",
            "Requirement already satisfied: pydantic-core==2.16.3 in /usr/local/lib/python3.10/dist-packages (from pydantic!=1.8,!=1.8.1,<3.0.0,>=1.7.4->spacy<3.8.0,>=3.7.0->pt-core-news-sm==3.7.0) (2.16.3)\n",
            "Requirement already satisfied: typing-extensions>=4.6.1 in /usr/local/lib/python3.10/dist-packages (from pydantic!=1.8,!=1.8.1,<3.0.0,>=1.7.4->spacy<3.8.0,>=3.7.0->pt-core-news-sm==3.7.0) (4.10.0)\n",
            "Requirement already satisfied: charset-normalizer<4,>=2 in /usr/local/lib/python3.10/dist-packages (from requests<3.0.0,>=2.13.0->spacy<3.8.0,>=3.7.0->pt-core-news-sm==3.7.0) (3.3.2)\n",
            "Requirement already satisfied: idna<4,>=2.5 in /usr/local/lib/python3.10/dist-packages (from requests<3.0.0,>=2.13.0->spacy<3.8.0,>=3.7.0->pt-core-news-sm==3.7.0) (3.6)\n",
            "Requirement already satisfied: urllib3<3,>=1.21.1 in /usr/local/lib/python3.10/dist-packages (from requests<3.0.0,>=2.13.0->spacy<3.8.0,>=3.7.0->pt-core-news-sm==3.7.0) (2.0.7)\n",
            "Requirement already satisfied: certifi>=2017.4.17 in /usr/local/lib/python3.10/dist-packages (from requests<3.0.0,>=2.13.0->spacy<3.8.0,>=3.7.0->pt-core-news-sm==3.7.0) (2024.2.2)\n",
            "Requirement already satisfied: blis<0.8.0,>=0.7.8 in /usr/local/lib/python3.10/dist-packages (from thinc<8.3.0,>=8.2.2->spacy<3.8.0,>=3.7.0->pt-core-news-sm==3.7.0) (0.7.11)\n",
            "Requirement already satisfied: confection<1.0.0,>=0.0.1 in /usr/local/lib/python3.10/dist-packages (from thinc<8.3.0,>=8.2.2->spacy<3.8.0,>=3.7.0->pt-core-news-sm==3.7.0) (0.1.4)\n",
            "Requirement already satisfied: click<9.0.0,>=7.1.1 in /usr/local/lib/python3.10/dist-packages (from typer<0.10.0,>=0.3.0->spacy<3.8.0,>=3.7.0->pt-core-news-sm==3.7.0) (8.1.7)\n",
            "Requirement already satisfied: cloudpathlib<0.17.0,>=0.7.0 in /usr/local/lib/python3.10/dist-packages (from weasel<0.4.0,>=0.1.0->spacy<3.8.0,>=3.7.0->pt-core-news-sm==3.7.0) (0.16.0)\n",
            "Requirement already satisfied: MarkupSafe>=2.0 in /usr/local/lib/python3.10/dist-packages (from jinja2->spacy<3.8.0,>=3.7.0->pt-core-news-sm==3.7.0) (2.1.5)\n",
            "Installing collected packages: pt-core-news-sm\n",
            "Successfully installed pt-core-news-sm-3.7.0\n",
            "\u001b[38;5;2m✔ Download and installation successful\u001b[0m\n",
            "You can now load the package via spacy.load('pt_core_news_sm')\n",
            "\u001b[38;5;3m⚠ Restart to reload dependencies\u001b[0m\n",
            "If you are in a Jupyter or Colab notebook, you may need to restart Python in\n",
            "order to load all the package's dependencies. You can do this by selecting the\n",
            "'Restart kernel' or 'Restart runtime' option.\n"
          ]
        }
      ]
    },
    {
      "cell_type": "markdown",
      "source": [
        "carregar a BIBLIOTECA SPACY"
      ],
      "metadata": {
        "id": "fNj7Qdd4y3c-"
      }
    },
    {
      "cell_type": "code",
      "source": [
        "import spacy"
      ],
      "metadata": {
        "id": "uS8oMjAIyofQ"
      },
      "execution_count": null,
      "outputs": []
    },
    {
      "cell_type": "markdown",
      "source": [
        "carregar a varivel da biblioteca \"pt_core_news_sm\""
      ],
      "metadata": {
        "id": "Wc13oaWy2Mdu"
      }
    },
    {
      "cell_type": "code",
      "source": [
        "nlp = spacy.load(\"pt_core_news_sm\")"
      ],
      "metadata": {
        "id": "PkprfZg8y0g-"
      },
      "execution_count": null,
      "outputs": []
    },
    {
      "cell_type": "code",
      "source": [
        "texto = \"Eu sou o Lucas Zanatta, moro em IBITINGA e quero conhecer o CHILE\""
      ],
      "metadata": {
        "id": "T5kK260LzQJe"
      },
      "execution_count": null,
      "outputs": []
    },
    {
      "cell_type": "markdown",
      "source": [
        "processar na variable doc o texto \"Eu sou o Lucas Zanatta, moro em IBITINGA e quero conhecer o CHILE\""
      ],
      "metadata": {
        "id": "FxfYpss22aJ-"
      }
    },
    {
      "cell_type": "code",
      "source": [
        "doc = nlp(texto)"
      ],
      "metadata": {
        "id": "FWHwJoWKzjaO"
      },
      "execution_count": null,
      "outputs": []
    },
    {
      "cell_type": "markdown",
      "source": [
        "o entidadade.text e entidade.label e para puxar qual seria o tipo de intem"
      ],
      "metadata": {
        "id": "isdtiLX_2vZv"
      }
    },
    {
      "cell_type": "code",
      "source": [
        "for entidade in doc.ents:\n",
        "  print(entidade.text, entidade.label_)"
      ],
      "metadata": {
        "id": "rDQGrrdg3VP3"
      },
      "execution_count": null,
      "outputs": []
    },
    {
      "cell_type": "markdown",
      "source": [
        "os id das variavel da blioteca spacy\n",
        "\n",
        "\n"
      ],
      "metadata": {
        "id": "__g_AmQK3gK_"
      }
    },
    {
      "cell_type": "code",
      "source": [
        "for entidade in doc.ents:\n",
        "  print(entidade.tensor)\n"
      ],
      "metadata": {
        "colab": {
          "base_uri": "https://localhost:8080/"
        },
        "id": "0V2a_WAgzni2",
        "outputId": "b78a3248-932f-453c-e971-a796d4c12501"
      },
      "execution_count": null,
      "outputs": [
        {
          "output_type": "stream",
          "name": "stdout",
          "text": [
            "[[ 4.6331733e-01 -4.6348009e+00 -3.5133841e+00 -2.6021087e+00\n",
            "   1.7374058e+00 -5.7077020e-01  6.4681907e+00  6.6050267e-01\n",
            "  -2.1473744e+00 -2.8403640e-01 -1.9976020e+00 -3.4889851e+00\n",
            "  -2.5757761e+00  1.2500720e+00 -1.0274999e+00 -5.2373827e-01\n",
            "   5.6659179e+00  1.8691827e+00  4.5264357e-01  1.2715187e+00\n",
            "  -3.3805275e+00 -3.2814538e+00  7.2933614e-01  2.4358759e+00\n",
            "   9.7036260e-01 -4.5346894e+00 -1.5593402e+00 -2.9545128e-02\n",
            "   1.7648830e+00 -4.0832992e+00 -2.3497934e+00  4.6149259e+00\n",
            "  -3.1014628e+00 -1.6446698e-01  3.3629146e+00 -1.5624480e+00\n",
            "   2.3879738e-01  6.4224701e+00  3.4858161e-01 -1.6091220e+00\n",
            "   1.1316531e+00  1.4196981e+00 -4.9286094e+00  4.5581460e+00\n",
            "   2.7953916e+00  2.9129491e+00 -8.3004487e-01  2.6600853e-02\n",
            "   3.5397202e-01 -2.9536016e+00 -3.6776121e+00  1.3969022e+00\n",
            "   4.8617201e+00  2.6746359e-01 -3.4617002e+00  1.7716912e+00\n",
            "   1.1708879e+01 -6.8017845e+00  1.0909979e+00 -1.4932492e+00\n",
            "  -2.9729751e-01 -2.7398963e+00 -2.7249105e+00  2.3669543e+00\n",
            "  -4.1632023e+00  3.1665106e+00  2.4635515e+00 -5.8558381e-01\n",
            "  -4.3890133e+00 -1.9608333e+00  2.7373657e+00  4.6922264e+00\n",
            "   2.7401943e+00 -1.0167938e+00  1.9820050e+00 -2.8454721e-01\n",
            "  -4.1835318e+00  1.6118560e+00  4.3973336e+00 -6.3300471e+00\n",
            "  -2.3751943e+00  1.3372588e+00  1.7545271e+00  1.1638598e+00\n",
            "  -2.8619203e-01  6.6909933e-01  2.0068722e+00 -1.0847771e+00\n",
            "  -1.7243552e+00  9.5790780e-01 -9.3097824e-01 -9.7280699e-01\n",
            "   1.0227022e+00  1.4394803e+00 -2.6925951e-01  1.4176463e+00]\n",
            " [ 6.8311203e-01 -2.0667381e+00 -3.7841036e+00 -4.6243489e-02\n",
            "   4.7463160e+00 -1.8901912e+00  4.6381478e+00 -1.4156151e+00\n",
            "   2.3438904e+00 -7.1792513e-01  1.5490835e+00 -5.4886236e+00\n",
            "  -4.3132520e+00  5.0309563e-01 -1.1072607e+00 -4.3774357e-01\n",
            "   4.8909016e+00  1.7013141e+00  7.1843100e-01 -3.2834406e+00\n",
            "  -4.0011868e+00  1.8149202e+00  1.8495989e-01  2.5110660e+00\n",
            "  -4.2501292e+00  1.8136982e+00  2.8171656e+00  1.1961303e+00\n",
            "  -3.0136106e+00 -7.5515467e-01 -1.3103194e+00  3.5454054e+00\n",
            "  -3.9234436e+00 -1.0280948e+00  3.8966095e+00  1.7690957e+00\n",
            "  -1.2467670e+00  6.9782358e-01 -2.2860079e+00 -1.8145398e+00\n",
            "   1.0489166e-02  2.4278927e+00  1.7074287e+00  5.2311206e+00\n",
            "   1.8822012e+00  4.7956285e+00 -2.4668460e+00 -1.1557806e+00\n",
            "  -2.2951114e+00 -3.6127400e+00 -6.6581688e+00  1.4490319e+00\n",
            "   2.8239141e+00  3.2795653e+00  3.9015231e+00 -7.3194510e-01\n",
            "   5.7395673e+00 -5.3369942e+00 -2.9908571e+00  4.4342965e-01\n",
            "  -2.4591870e+00 -9.8085159e-01 -1.9835744e+00 -4.3552920e-01\n",
            "  -1.9954261e+00  2.3014152e+00  3.6214333e+00  2.2801974e+00\n",
            "  -2.6954825e+00  4.3844409e+00 -3.3158877e+00 -7.1864057e-01\n",
            "   5.7187643e+00 -1.6055026e+00 -1.0186956e+00 -1.6334345e+00\n",
            "  -2.1300225e+00  5.1491600e-01  3.2900214e+00 -5.0090585e+00\n",
            "  -3.1809931e+00 -6.9166124e-01 -4.0796924e+00  7.9125996e+00\n",
            "   5.2706909e+00  1.2697937e+00 -4.0290399e+00 -3.5177414e+00\n",
            "  -7.8674233e-01  2.7429934e+00  2.5012082e-01 -1.6290452e+00\n",
            "   3.9272418e+00  2.9705069e+00 -3.2317753e+00  6.4575515e+00]]\n",
            "[[ 0.17421758 -1.2434273  -3.5374086   2.1641061   1.337565   -1.5847051\n",
            "   5.7782807  -2.6921253   1.0129724  -0.33253706  0.41003847  0.08255857\n",
            "  -0.8960386  -0.6886177  -1.2931682   1.207616   -0.9660348   1.0285716\n",
            "   6.6403584   3.5323334  -2.4186144  -3.053695   -2.264673    1.7511861\n",
            "  -1.7857256  -1.9591818  -3.4489005  -3.572905    0.48914403 -2.430044\n",
            "  -3.2608612   4.9164443   3.1568267   1.3907931   0.41198736 -0.7654473\n",
            "  -0.5745934   4.915593    2.3656163   3.9808984  -1.2394533   2.584594\n",
            "  -3.0576193   4.9001436  -1.0447433   0.97889125  0.14467514  0.94445974\n",
            "  -1.876321   -2.4007666  -1.5418224   2.4640057   2.9547112  -1.813678\n",
            "  -0.34070706 -1.3484097   7.0519857  -0.82183343 -1.1699808  -2.0475419\n",
            "   0.8401879  -2.7401657   2.0532718  -2.8419657   0.509989   -4.0542994\n",
            "  -0.9797582   0.17271724 -3.1804862  -0.47308153  2.5034966   1.5973427\n",
            "   1.6958796  -1.8747324   2.1218162  -1.400625   -2.7045555   0.63321126\n",
            "   6.6603346  -5.485338    1.2802033  -3.7820206   0.74208695 -1.5542438\n",
            "  -4.1802597   2.942063    1.863281   -2.296399    1.6279421   2.7916102\n",
            "  -1.9638021  -0.52423674  1.4112995   0.8306172  -0.18838292  1.1751809 ]]\n",
            "[[-0.16517901  0.76194113 -4.8714147   0.09191048 -1.19139    -1.5326076\n",
            "   3.2593894  -0.5237998   0.6902685  -0.1409184   2.2475843  -4.588779\n",
            "  -2.6048758   0.1496064  -3.4576883   1.5478351   7.6967373   3.9467282\n",
            "   1.9773458   2.3288584  -0.18788004 -6.377452   -3.105365    3.8134556\n",
            "  -2.1141837  -1.553742   -2.223908    3.723528   -0.03146964 -1.4119309\n",
            "  -2.926742    3.1428592  -0.75501543 -1.1101453   4.1115475   4.648204\n",
            "   1.9162755   4.647382   -2.693827    2.2996345   1.3836364   2.0733519\n",
            "  -7.730327    6.3467093   0.4349705   0.8047857   3.0881977  -2.5373297\n",
            "  -2.5135696  -1.4580896  -2.2524183   2.0507445   5.15351     2.802003\n",
            "  -1.4242513  -5.9469247   6.8489847  -2.7791293  -2.8498907  -0.5443231\n",
            "   0.27715242 -2.3481894  -1.842191    1.5201991  -0.40044686  2.3678474\n",
            "   0.13817537 -0.7891621   2.509013   -1.6058439   3.5062313   0.6134244\n",
            "   3.8245049   0.26518893  3.8530638  -0.6042867  -3.098254   -0.9199848\n",
            "   0.16062355 -5.8045754  -3.2694092  -3.6720328  -6.013768    0.8007817\n",
            "  -4.329178    1.8523335  -0.3942891   1.169043   -2.3894608   2.5608702\n",
            "   3.9339068  -2.7927306   2.8244786  -0.21340632  0.17242068  1.5070237 ]]\n"
          ]
        }
      ]
    },
    {
      "cell_type": "code",
      "source": [
        "texto = '''O OAuth 2.0 está diretamente relacionado ao OpenID Connect (OIDC). Como o OIDC é uma camada de autenticação e autorização criada com base no OAuth 2.0, ele não é compatível com versões anteriores do OAuth 1.0. O Microsoft Entra ID é compatível com todos os fluxos do OAuth 2.0\n",
        "\n",
        "'''.strip()"
      ],
      "metadata": {
        "id": "OAcQYXUw4Tme"
      },
      "execution_count": null,
      "outputs": []
    },
    {
      "cell_type": "code",
      "source": [
        "doc = nlp(texto)"
      ],
      "metadata": {
        "id": "4RZfvhDw4kaW"
      },
      "execution_count": null,
      "outputs": []
    },
    {
      "cell_type": "code",
      "source": [
        "for entidade in doc.ents:\n",
        "  print(entidade.text, entidade.label_)"
      ],
      "metadata": {
        "colab": {
          "base_uri": "https://localhost:8080/"
        },
        "id": "GPcERZkl4sJF",
        "outputId": "e42c1b39-f87e-4674-c22f-a7d63bebc565"
      },
      "execution_count": null,
      "outputs": [
        {
          "output_type": "stream",
          "name": "stdout",
          "text": [
            "OAuth MISC\n",
            "OpenID Connect MISC\n",
            "OIDC ORG\n",
            "OIDC LOC\n",
            "OAuth MISC\n",
            "OAuth MISC\n",
            "Microsoft ORG\n",
            "OAuth MISC\n"
          ]
        }
      ]
    }
  ]
}