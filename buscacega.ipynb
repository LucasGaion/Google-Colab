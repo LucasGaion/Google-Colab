{
  "nbformat": 4,
  "nbformat_minor": 0,
  "metadata": {
    "colab": {
      "provenance": [],
      "authorship_tag": "ABX9TyNY3DtQDTq4HQQ8RIdiMQQo",
      "include_colab_link": true
    },
    "kernelspec": {
      "name": "python3",
      "display_name": "Python 3"
    },
    "language_info": {
      "name": "python"
    }
  },
  "cells": [
    {
      "cell_type": "markdown",
      "metadata": {
        "id": "view-in-github",
        "colab_type": "text"
      },
      "source": [
        "<a href=\"https://colab.research.google.com/github/LucasGaion/Google-Colab/blob/main/buscacega.ipynb\" target=\"_parent\"><img src=\"https://colab.research.google.com/assets/colab-badge.svg\" alt=\"Open In Colab\"/></a>"
      ]
    },
    {
      "cell_type": "code",
      "execution_count": 1,
      "metadata": {
        "colab": {
          "base_uri": "https://localhost:8080/"
        },
        "id": "21AQTGJmlCSS",
        "outputId": "f80d3aa4-5534-4224-c5c7-004ed20f7a8e"
      },
      "outputs": [
        {
          "output_type": "stream",
          "name": "stdout",
          "text": [
            "A\n",
            "C\n",
            "B\n",
            "F\n",
            "D\n",
            "E\n"
          ]
        }
      ],
      "source": [
        "from collections import deque\n",
        "\n",
        "def busca_em_largura(grafo, inicio):\n",
        "    visitados = set()\n",
        "    fila = deque([inicio])\n",
        "\n",
        "    while fila:\n",
        "        vertice = fila.popleft()\n",
        "        if vertice not in visitados:\n",
        "            visitados.add(vertice)\n",
        "            print(vertice)  # Aqui você pode adicionar qualquer ação desejada com o nó visitado\n",
        "            fila.extend(grafo[vertice] - visitados)\n",
        "\n",
        "# Exemplo de utilização:\n",
        "\n",
        "# Definindo um grafo como um dicionário de conjuntos\n",
        "grafo = {\n",
        "    'A': {'B', 'C'},\n",
        "    'B': {'A', 'D', 'E'},\n",
        "    'C': {'A', 'F'},\n",
        "    'D': {'B'},\n",
        "    'E': {'B', 'F'},\n",
        "    'F': {'C', 'E'}\n",
        "}\n",
        "\n",
        "# Chamando a busca em largura a partir do vértice 'A'\n",
        "busca_em_largura(grafo, 'A')\n"
      ]
    }
  ]
}