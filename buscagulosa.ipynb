{
  "nbformat": 4,
  "nbformat_minor": 0,
  "metadata": {
    "colab": {
      "provenance": [],
      "authorship_tag": "ABX9TyMEfvtpd5yIB7GBv0/xp2Oy",
      "include_colab_link": true
    },
    "kernelspec": {
      "name": "python3",
      "display_name": "Python 3"
    },
    "language_info": {
      "name": "python"
    }
  },
  "cells": [
    {
      "cell_type": "markdown",
      "metadata": {
        "id": "view-in-github",
        "colab_type": "text"
      },
      "source": [
        "<a href=\"https://colab.research.google.com/github/LucasGaion/Google-Colab/blob/main/buscagulosa.ipynb\" target=\"_parent\"><img src=\"https://colab.research.google.com/assets/colab-badge.svg\" alt=\"Open In Colab\"/></a>"
      ]
    },
    {
      "cell_type": "code",
      "execution_count": 1,
      "metadata": {
        "id": "7z2Lp81ll2ex",
        "outputId": "e2b5af0f-0515-4c8a-dc43-9a2d5739b71c",
        "colab": {
          "base_uri": "https://localhost:8080/"
        }
      },
      "outputs": [
        {
          "output_type": "stream",
          "name": "stdout",
          "text": [
            "Objetivo encontrado!\n"
          ]
        }
      ],
      "source": [
        "import heapq\n",
        "\n",
        "def busca_gulosa(grafo, inicio, objetivo, heuristica):\n",
        "    fila_prioridade = [(heuristica(inicio), inicio)]\n",
        "    visitados = set()\n",
        "\n",
        "    while fila_prioridade:\n",
        "        _, vertice = heapq.heappop(fila_prioridade)\n",
        "\n",
        "        if vertice == objetivo:\n",
        "            return True  # Objetivo encontrado\n",
        "\n",
        "        if vertice not in visitados:\n",
        "            visitados.add(vertice)\n",
        "\n",
        "            for vizinho in grafo[vertice]:\n",
        "                if vizinho not in visitados:\n",
        "                    heapq.heappush(fila_prioridade, (heuristica(vizinho), vizinho))\n",
        "\n",
        "    return False  # Objetivo não encontrado\n",
        "\n",
        "# Exemplo de utilização:\n",
        "\n",
        "# Grafo representado como um dicionário de dicionários (arestas ponderadas)\n",
        "grafo = {\n",
        "    'A': {'B': 5, 'C': 3},\n",
        "    'B': {'D': 4},\n",
        "    'C': {'E': 6},\n",
        "    'D': {'F': 3},\n",
        "    'E': {'F': 7},\n",
        "    'F': {}\n",
        "}\n",
        "\n",
        "# Função heurística simples (distância em linha reta até o objetivo)\n",
        "def heuristica(vertice):\n",
        "    heuristicas = {'A': 8, 'B': 6, 'C': 5, 'D': 4, 'E': 3, 'F': 0}\n",
        "    return heuristicas[vertice]\n",
        "\n",
        "# Chamando a busca gulosa a partir do vértice 'A' até o vértice 'F'\n",
        "resultado = busca_gulosa(grafo, 'A', 'F', heuristica)\n",
        "if resultado:\n",
        "    print(\"Objetivo encontrado!\")\n",
        "else:\n",
        "    print(\"Objetivo não encontrado.\")\n"
      ]
    }
  ]
}